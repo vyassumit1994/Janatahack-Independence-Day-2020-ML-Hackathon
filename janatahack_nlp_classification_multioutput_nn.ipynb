{
  "nbformat": 4,
  "nbformat_minor": 0,
  "metadata": {
    "colab": {
      "name": "janatahack_nlp_classification_multioutput_nn.ipynb",
      "provenance": [],
      "collapsed_sections": [],
      "toc_visible": true
    },
    "kernelspec": {
      "name": "python3",
      "display_name": "Python 3"
    },
    "accelerator": "GPU"
  },
  "cells": [
    {
      "cell_type": "code",
      "metadata": {
        "id": "KkkycSwPmQCU",
        "colab_type": "code",
        "colab": {}
      },
      "source": [
        "import pandas as pd\n",
        "import numpy as np\n",
        "import matplotlib.pyplot as plt"
      ],
      "execution_count": null,
      "outputs": []
    },
    {
      "cell_type": "code",
      "metadata": {
        "id": "gi5XiQZumpNo",
        "colab_type": "code",
        "colab": {}
      },
      "source": [
        "df = pd.read_csv(\"train.csv\")"
      ],
      "execution_count": null,
      "outputs": []
    },
    {
      "cell_type": "code",
      "metadata": {
        "id": "-cn1T-B_nQjE",
        "colab_type": "code",
        "colab": {
          "base_uri": "https://localhost:8080/",
          "height": 296
        },
        "outputId": "5abc0308-fa44-4d10-890e-513bcf2ff8d2"
      },
      "source": [
        "df.head()"
      ],
      "execution_count": null,
      "outputs": [
        {
          "output_type": "execute_result",
          "data": {
            "text/html": [
              "<div>\n",
              "<style scoped>\n",
              "    .dataframe tbody tr th:only-of-type {\n",
              "        vertical-align: middle;\n",
              "    }\n",
              "\n",
              "    .dataframe tbody tr th {\n",
              "        vertical-align: top;\n",
              "    }\n",
              "\n",
              "    .dataframe thead th {\n",
              "        text-align: right;\n",
              "    }\n",
              "</style>\n",
              "<table border=\"1\" class=\"dataframe\">\n",
              "  <thead>\n",
              "    <tr style=\"text-align: right;\">\n",
              "      <th></th>\n",
              "      <th>ID</th>\n",
              "      <th>TITLE</th>\n",
              "      <th>ABSTRACT</th>\n",
              "      <th>Computer Science</th>\n",
              "      <th>Physics</th>\n",
              "      <th>Mathematics</th>\n",
              "      <th>Statistics</th>\n",
              "      <th>Quantitative Biology</th>\n",
              "      <th>Quantitative Finance</th>\n",
              "    </tr>\n",
              "  </thead>\n",
              "  <tbody>\n",
              "    <tr>\n",
              "      <th>0</th>\n",
              "      <td>1</td>\n",
              "      <td>Reconstructing Subject-Specific Effect Maps</td>\n",
              "      <td>Predictive models allow subject-specific inf...</td>\n",
              "      <td>1</td>\n",
              "      <td>0</td>\n",
              "      <td>0</td>\n",
              "      <td>0</td>\n",
              "      <td>0</td>\n",
              "      <td>0</td>\n",
              "    </tr>\n",
              "    <tr>\n",
              "      <th>1</th>\n",
              "      <td>2</td>\n",
              "      <td>Rotation Invariance Neural Network</td>\n",
              "      <td>Rotation invariance and translation invarian...</td>\n",
              "      <td>1</td>\n",
              "      <td>0</td>\n",
              "      <td>0</td>\n",
              "      <td>0</td>\n",
              "      <td>0</td>\n",
              "      <td>0</td>\n",
              "    </tr>\n",
              "    <tr>\n",
              "      <th>2</th>\n",
              "      <td>3</td>\n",
              "      <td>Spherical polyharmonics and Poisson kernels fo...</td>\n",
              "      <td>We introduce and develop the notion of spher...</td>\n",
              "      <td>0</td>\n",
              "      <td>0</td>\n",
              "      <td>1</td>\n",
              "      <td>0</td>\n",
              "      <td>0</td>\n",
              "      <td>0</td>\n",
              "    </tr>\n",
              "    <tr>\n",
              "      <th>3</th>\n",
              "      <td>4</td>\n",
              "      <td>A finite element approximation for the stochas...</td>\n",
              "      <td>The stochastic Landau--Lifshitz--Gilbert (LL...</td>\n",
              "      <td>0</td>\n",
              "      <td>0</td>\n",
              "      <td>1</td>\n",
              "      <td>0</td>\n",
              "      <td>0</td>\n",
              "      <td>0</td>\n",
              "    </tr>\n",
              "    <tr>\n",
              "      <th>4</th>\n",
              "      <td>5</td>\n",
              "      <td>Comparative study of Discrete Wavelet Transfor...</td>\n",
              "      <td>Fourier-transform infra-red (FTIR) spectra o...</td>\n",
              "      <td>1</td>\n",
              "      <td>0</td>\n",
              "      <td>0</td>\n",
              "      <td>1</td>\n",
              "      <td>0</td>\n",
              "      <td>0</td>\n",
              "    </tr>\n",
              "  </tbody>\n",
              "</table>\n",
              "</div>"
            ],
            "text/plain": [
              "   ID  ... Quantitative Finance\n",
              "0   1  ...                    0\n",
              "1   2  ...                    0\n",
              "2   3  ...                    0\n",
              "3   4  ...                    0\n",
              "4   5  ...                    0\n",
              "\n",
              "[5 rows x 9 columns]"
            ]
          },
          "metadata": {
            "tags": []
          },
          "execution_count": 3
        }
      ]
    },
    {
      "cell_type": "code",
      "metadata": {
        "id": "5mD4Lpukn3_2",
        "colab_type": "code",
        "colab": {
          "base_uri": "https://localhost:8080/",
          "height": 34
        },
        "outputId": "32ee5807-db77-454f-a4a7-7015f3a48b53"
      },
      "source": [
        "df.shape"
      ],
      "execution_count": null,
      "outputs": [
        {
          "output_type": "execute_result",
          "data": {
            "text/plain": [
              "(20972, 9)"
            ]
          },
          "metadata": {
            "tags": []
          },
          "execution_count": 4
        }
      ]
    },
    {
      "cell_type": "code",
      "metadata": {
        "id": "fi9hwAtZIK7T",
        "colab_type": "code",
        "colab": {
          "base_uri": "https://localhost:8080/",
          "height": 284
        },
        "outputId": "9dd73fc0-7a7c-4d00-f788-8b2dd13e5f58"
      },
      "source": [
        "df.describe()"
      ],
      "execution_count": null,
      "outputs": [
        {
          "output_type": "execute_result",
          "data": {
            "text/html": [
              "<div>\n",
              "<style scoped>\n",
              "    .dataframe tbody tr th:only-of-type {\n",
              "        vertical-align: middle;\n",
              "    }\n",
              "\n",
              "    .dataframe tbody tr th {\n",
              "        vertical-align: top;\n",
              "    }\n",
              "\n",
              "    .dataframe thead th {\n",
              "        text-align: right;\n",
              "    }\n",
              "</style>\n",
              "<table border=\"1\" class=\"dataframe\">\n",
              "  <thead>\n",
              "    <tr style=\"text-align: right;\">\n",
              "      <th></th>\n",
              "      <th>ID</th>\n",
              "      <th>Computer Science</th>\n",
              "      <th>Physics</th>\n",
              "      <th>Mathematics</th>\n",
              "      <th>Statistics</th>\n",
              "      <th>Quantitative Biology</th>\n",
              "      <th>Quantitative Finance</th>\n",
              "    </tr>\n",
              "  </thead>\n",
              "  <tbody>\n",
              "    <tr>\n",
              "      <th>count</th>\n",
              "      <td>20972.000000</td>\n",
              "      <td>20972.000000</td>\n",
              "      <td>20972.000000</td>\n",
              "      <td>20972.000000</td>\n",
              "      <td>20972.000000</td>\n",
              "      <td>20972.000000</td>\n",
              "      <td>20972.000000</td>\n",
              "    </tr>\n",
              "    <tr>\n",
              "      <th>mean</th>\n",
              "      <td>10486.500000</td>\n",
              "      <td>0.409784</td>\n",
              "      <td>0.286716</td>\n",
              "      <td>0.267881</td>\n",
              "      <td>0.248236</td>\n",
              "      <td>0.027990</td>\n",
              "      <td>0.011873</td>\n",
              "    </tr>\n",
              "    <tr>\n",
              "      <th>std</th>\n",
              "      <td>6054.239259</td>\n",
              "      <td>0.491806</td>\n",
              "      <td>0.452238</td>\n",
              "      <td>0.442866</td>\n",
              "      <td>0.432000</td>\n",
              "      <td>0.164947</td>\n",
              "      <td>0.108317</td>\n",
              "    </tr>\n",
              "    <tr>\n",
              "      <th>min</th>\n",
              "      <td>1.000000</td>\n",
              "      <td>0.000000</td>\n",
              "      <td>0.000000</td>\n",
              "      <td>0.000000</td>\n",
              "      <td>0.000000</td>\n",
              "      <td>0.000000</td>\n",
              "      <td>0.000000</td>\n",
              "    </tr>\n",
              "    <tr>\n",
              "      <th>25%</th>\n",
              "      <td>5243.750000</td>\n",
              "      <td>0.000000</td>\n",
              "      <td>0.000000</td>\n",
              "      <td>0.000000</td>\n",
              "      <td>0.000000</td>\n",
              "      <td>0.000000</td>\n",
              "      <td>0.000000</td>\n",
              "    </tr>\n",
              "    <tr>\n",
              "      <th>50%</th>\n",
              "      <td>10486.500000</td>\n",
              "      <td>0.000000</td>\n",
              "      <td>0.000000</td>\n",
              "      <td>0.000000</td>\n",
              "      <td>0.000000</td>\n",
              "      <td>0.000000</td>\n",
              "      <td>0.000000</td>\n",
              "    </tr>\n",
              "    <tr>\n",
              "      <th>75%</th>\n",
              "      <td>15729.250000</td>\n",
              "      <td>1.000000</td>\n",
              "      <td>1.000000</td>\n",
              "      <td>1.000000</td>\n",
              "      <td>0.000000</td>\n",
              "      <td>0.000000</td>\n",
              "      <td>0.000000</td>\n",
              "    </tr>\n",
              "    <tr>\n",
              "      <th>max</th>\n",
              "      <td>20972.000000</td>\n",
              "      <td>1.000000</td>\n",
              "      <td>1.000000</td>\n",
              "      <td>1.000000</td>\n",
              "      <td>1.000000</td>\n",
              "      <td>1.000000</td>\n",
              "      <td>1.000000</td>\n",
              "    </tr>\n",
              "  </tbody>\n",
              "</table>\n",
              "</div>"
            ],
            "text/plain": [
              "                 ID  ...  Quantitative Finance\n",
              "count  20972.000000  ...          20972.000000\n",
              "mean   10486.500000  ...              0.011873\n",
              "std     6054.239259  ...              0.108317\n",
              "min        1.000000  ...              0.000000\n",
              "25%     5243.750000  ...              0.000000\n",
              "50%    10486.500000  ...              0.000000\n",
              "75%    15729.250000  ...              0.000000\n",
              "max    20972.000000  ...              1.000000\n",
              "\n",
              "[8 rows x 7 columns]"
            ]
          },
          "metadata": {
            "tags": []
          },
          "execution_count": 5
        }
      ]
    },
    {
      "cell_type": "code",
      "metadata": {
        "id": "KpJKB1DEIMKX",
        "colab_type": "code",
        "colab": {
          "base_uri": "https://localhost:8080/",
          "height": 193
        },
        "outputId": "9e1a477d-23d8-4679-d938-47c6da6c28d5"
      },
      "source": [
        "df.dtypes"
      ],
      "execution_count": null,
      "outputs": [
        {
          "output_type": "execute_result",
          "data": {
            "text/plain": [
              "ID                       int64\n",
              "TITLE                   object\n",
              "ABSTRACT                object\n",
              "Computer Science         int64\n",
              "Physics                  int64\n",
              "Mathematics              int64\n",
              "Statistics               int64\n",
              "Quantitative Biology     int64\n",
              "Quantitative Finance     int64\n",
              "dtype: object"
            ]
          },
          "metadata": {
            "tags": []
          },
          "execution_count": 6
        }
      ]
    },
    {
      "cell_type": "code",
      "metadata": {
        "id": "s3iJuQLeIOZ0",
        "colab_type": "code",
        "colab": {
          "base_uri": "https://localhost:8080/",
          "height": 122
        },
        "outputId": "7d2d2642-8d6b-47b4-8d86-35b10a1886d6"
      },
      "source": [
        "for each in df.columns[3:]:\n",
        "    print (each, df[each].sum())"
      ],
      "execution_count": null,
      "outputs": [
        {
          "output_type": "stream",
          "text": [
            "Computer Science 8594\n",
            "Physics 6013\n",
            "Mathematics 5618\n",
            "Statistics 5206\n",
            "Quantitative Biology 587\n",
            "Quantitative Finance 249\n"
          ],
          "name": "stdout"
        }
      ]
    },
    {
      "cell_type": "code",
      "metadata": {
        "id": "nsn95k1cLAaw",
        "colab_type": "code",
        "colab": {
          "base_uri": "https://localhost:8080/",
          "height": 122
        },
        "outputId": "e9d0b51b-988d-4d71-f3f3-4c2923ff71c2"
      },
      "source": [
        "for each in df.columns[3:]:\n",
        "    print (each, df[each].sum()/df.shape[0])"
      ],
      "execution_count": null,
      "outputs": [
        {
          "output_type": "stream",
          "text": [
            "Computer Science 0.4097844745374785\n",
            "Physics 0.28671562082777036\n",
            "Mathematics 0.2678809841693687\n",
            "Statistics 0.24823574289528896\n",
            "Quantitative Biology 0.027989700553118443\n",
            "Quantitative Finance 0.011872973488460805\n"
          ],
          "name": "stdout"
        }
      ]
    },
    {
      "cell_type": "code",
      "metadata": {
        "id": "0W7KZWyyIQWi",
        "colab_type": "code",
        "colab": {}
      },
      "source": [
        "df.columns = [each.lower() for each in df.columns]"
      ],
      "execution_count": null,
      "outputs": []
    },
    {
      "cell_type": "code",
      "metadata": {
        "id": "SVbOS7NqTfph",
        "colab_type": "code",
        "colab": {}
      },
      "source": [
        ""
      ],
      "execution_count": null,
      "outputs": []
    },
    {
      "cell_type": "code",
      "metadata": {
        "id": "eLRcAoY5IR94",
        "colab_type": "code",
        "colab": {
          "base_uri": "https://localhost:8080/",
          "height": 34
        },
        "outputId": "7e7805d4-f662-4e40-9931-08035946b034"
      },
      "source": [
        "max(df['title'].apply(lambda x: len(x)))"
      ],
      "execution_count": null,
      "outputs": [
        {
          "output_type": "execute_result",
          "data": {
            "text/plain": [
              "239"
            ]
          },
          "metadata": {
            "tags": []
          },
          "execution_count": 10
        }
      ]
    },
    {
      "cell_type": "code",
      "metadata": {
        "id": "RGi234CcITq3",
        "colab_type": "code",
        "colab": {
          "base_uri": "https://localhost:8080/",
          "height": 34
        },
        "outputId": "ae969e1b-50d1-4d99-a6c7-aeb89bef686d"
      },
      "source": [
        "max(df['abstract'].apply(lambda x: len(x)))"
      ],
      "execution_count": null,
      "outputs": [
        {
          "output_type": "execute_result",
          "data": {
            "text/plain": [
              "2761"
            ]
          },
          "metadata": {
            "tags": []
          },
          "execution_count": 11
        }
      ]
    },
    {
      "cell_type": "code",
      "metadata": {
        "id": "JRWWzRtjIVUK",
        "colab_type": "code",
        "colab": {}
      },
      "source": [
        "# Combine Title and Text - Can try a small network seperately on title\n",
        "# Seperate train and test data\n",
        "# Preprocess, tokenize and text to seq, padding\n",
        "# Generate labels - 6 columns of output\n",
        "# Encoding into glove vectors\n",
        "# Define multioutput model\n",
        "# Train and predict"
      ],
      "execution_count": null,
      "outputs": []
    },
    {
      "cell_type": "markdown",
      "metadata": {
        "id": "4fQV65WHItoq",
        "colab_type": "text"
      },
      "source": [
        "## Combine Title and text"
      ]
    },
    {
      "cell_type": "code",
      "metadata": {
        "id": "H8-eAVsnIsvl",
        "colab_type": "code",
        "colab": {}
      },
      "source": [
        "df['abstract']  = df['title'].apply(lambda x: x + \". \") + df['abstract']"
      ],
      "execution_count": null,
      "outputs": []
    },
    {
      "cell_type": "code",
      "metadata": {
        "id": "ehqWDawUIsyu",
        "colab_type": "code",
        "colab": {
          "base_uri": "https://localhost:8080/",
          "height": 296
        },
        "outputId": "b503fa95-ddb6-4a54-a4eb-57727b962820"
      },
      "source": [
        "df.head()"
      ],
      "execution_count": null,
      "outputs": [
        {
          "output_type": "execute_result",
          "data": {
            "text/html": [
              "<div>\n",
              "<style scoped>\n",
              "    .dataframe tbody tr th:only-of-type {\n",
              "        vertical-align: middle;\n",
              "    }\n",
              "\n",
              "    .dataframe tbody tr th {\n",
              "        vertical-align: top;\n",
              "    }\n",
              "\n",
              "    .dataframe thead th {\n",
              "        text-align: right;\n",
              "    }\n",
              "</style>\n",
              "<table border=\"1\" class=\"dataframe\">\n",
              "  <thead>\n",
              "    <tr style=\"text-align: right;\">\n",
              "      <th></th>\n",
              "      <th>id</th>\n",
              "      <th>title</th>\n",
              "      <th>abstract</th>\n",
              "      <th>computer science</th>\n",
              "      <th>physics</th>\n",
              "      <th>mathematics</th>\n",
              "      <th>statistics</th>\n",
              "      <th>quantitative biology</th>\n",
              "      <th>quantitative finance</th>\n",
              "    </tr>\n",
              "  </thead>\n",
              "  <tbody>\n",
              "    <tr>\n",
              "      <th>0</th>\n",
              "      <td>1</td>\n",
              "      <td>Reconstructing Subject-Specific Effect Maps</td>\n",
              "      <td>Reconstructing Subject-Specific Effect Maps.  ...</td>\n",
              "      <td>1</td>\n",
              "      <td>0</td>\n",
              "      <td>0</td>\n",
              "      <td>0</td>\n",
              "      <td>0</td>\n",
              "      <td>0</td>\n",
              "    </tr>\n",
              "    <tr>\n",
              "      <th>1</th>\n",
              "      <td>2</td>\n",
              "      <td>Rotation Invariance Neural Network</td>\n",
              "      <td>Rotation Invariance Neural Network.   Rotation...</td>\n",
              "      <td>1</td>\n",
              "      <td>0</td>\n",
              "      <td>0</td>\n",
              "      <td>0</td>\n",
              "      <td>0</td>\n",
              "      <td>0</td>\n",
              "    </tr>\n",
              "    <tr>\n",
              "      <th>2</th>\n",
              "      <td>3</td>\n",
              "      <td>Spherical polyharmonics and Poisson kernels fo...</td>\n",
              "      <td>Spherical polyharmonics and Poisson kernels fo...</td>\n",
              "      <td>0</td>\n",
              "      <td>0</td>\n",
              "      <td>1</td>\n",
              "      <td>0</td>\n",
              "      <td>0</td>\n",
              "      <td>0</td>\n",
              "    </tr>\n",
              "    <tr>\n",
              "      <th>3</th>\n",
              "      <td>4</td>\n",
              "      <td>A finite element approximation for the stochas...</td>\n",
              "      <td>A finite element approximation for the stochas...</td>\n",
              "      <td>0</td>\n",
              "      <td>0</td>\n",
              "      <td>1</td>\n",
              "      <td>0</td>\n",
              "      <td>0</td>\n",
              "      <td>0</td>\n",
              "    </tr>\n",
              "    <tr>\n",
              "      <th>4</th>\n",
              "      <td>5</td>\n",
              "      <td>Comparative study of Discrete Wavelet Transfor...</td>\n",
              "      <td>Comparative study of Discrete Wavelet Transfor...</td>\n",
              "      <td>1</td>\n",
              "      <td>0</td>\n",
              "      <td>0</td>\n",
              "      <td>1</td>\n",
              "      <td>0</td>\n",
              "      <td>0</td>\n",
              "    </tr>\n",
              "  </tbody>\n",
              "</table>\n",
              "</div>"
            ],
            "text/plain": [
              "   id  ... quantitative finance\n",
              "0   1  ...                    0\n",
              "1   2  ...                    0\n",
              "2   3  ...                    0\n",
              "3   4  ...                    0\n",
              "4   5  ...                    0\n",
              "\n",
              "[5 rows x 9 columns]"
            ]
          },
          "metadata": {
            "tags": []
          },
          "execution_count": 14
        }
      ]
    },
    {
      "cell_type": "markdown",
      "metadata": {
        "id": "LtYra_VpLBKS",
        "colab_type": "text"
      },
      "source": [
        "## Seperate Train and Test Data"
      ]
    },
    {
      "cell_type": "code",
      "metadata": {
        "id": "8g-9dTPzK970",
        "colab_type": "code",
        "colab": {}
      },
      "source": [
        "test_size = 0.2\n",
        "\n",
        "indices = list(df.index)\n",
        "np.random.shuffle(indices)\n",
        "\n",
        "test_indices  = indices[:int(test_size*len(indices))]\n",
        "train_indices = indices[int(test_size*len(indices)):]"
      ],
      "execution_count": null,
      "outputs": []
    },
    {
      "cell_type": "code",
      "metadata": {
        "id": "ojVFxp-MLhDs",
        "colab_type": "code",
        "colab": {
          "base_uri": "https://localhost:8080/",
          "height": 34
        },
        "outputId": "1e4bf2ce-04fa-49f8-f674-406154de753f"
      },
      "source": [
        "len(train_indices), len(test_indices)"
      ],
      "execution_count": null,
      "outputs": [
        {
          "output_type": "execute_result",
          "data": {
            "text/plain": [
              "(16778, 4194)"
            ]
          },
          "metadata": {
            "tags": []
          },
          "execution_count": 16
        }
      ]
    },
    {
      "cell_type": "code",
      "metadata": {
        "id": "oc6cTxY7L44X",
        "colab_type": "code",
        "colab": {
          "base_uri": "https://localhost:8080/",
          "height": 34
        },
        "outputId": "fccb01e2-8072-43cc-b797-7837e9672f61"
      },
      "source": [
        "train_indices[:5]"
      ],
      "execution_count": null,
      "outputs": [
        {
          "output_type": "execute_result",
          "data": {
            "text/plain": [
              "[8875, 16837, 19082, 3432, 11670]"
            ]
          },
          "metadata": {
            "tags": []
          },
          "execution_count": 17
        }
      ]
    },
    {
      "cell_type": "code",
      "metadata": {
        "id": "B4h2ULtPLhfZ",
        "colab_type": "code",
        "colab": {}
      },
      "source": [
        "train_texts = df.loc[train_indices, 'abstract']\n",
        "test_texts  = df.loc[test_indices, 'abstract']"
      ],
      "execution_count": null,
      "outputs": []
    },
    {
      "cell_type": "code",
      "metadata": {
        "id": "BqITMJctL_nu",
        "colab_type": "code",
        "colab": {
          "base_uri": "https://localhost:8080/",
          "height": 141
        },
        "outputId": "59d5dd04-f867-41e7-c3dd-c3c63c831b3b"
      },
      "source": [
        "train_texts[3]"
      ],
      "execution_count": null,
      "outputs": [
        {
          "output_type": "execute_result",
          "data": {
            "application/vnd.google.colaboratory.intrinsic+json": {
              "type": "string"
            },
            "text/plain": [
              "'A finite element approximation for the stochastic Maxwell--Landau--Lifshitz--Gilbert system.   The stochastic Landau--Lifshitz--Gilbert (LLG) equation coupled with the\\nMaxwell equations (the so called stochastic MLLG system) describes the creation\\nof domain walls and vortices (fundamental objects for the novel nanostructured\\nmagnetic memories). We first reformulate the stochastic LLG equation into an\\nequation with time-differentiable solutions. We then propose a convergent\\n$\\\\theta$-linear scheme to approximate the solutions of the reformulated system.\\nAs a consequence, we prove convergence of the approximate solutions, with no or\\nminor conditions on time and space steps (depending on the value of $\\\\theta$).\\nHence, we prove the existence of weak martingale solutions of the stochastic\\nMLLG system. Numerical results are presented to show applicability of the\\nmethod.\\n'"
            ]
          },
          "metadata": {
            "tags": []
          },
          "execution_count": 19
        }
      ]
    },
    {
      "cell_type": "markdown",
      "metadata": {
        "id": "Sjat27KaInXV",
        "colab_type": "text"
      },
      "source": [
        "## Preprocess, tokenize and text to seq "
      ]
    },
    {
      "cell_type": "code",
      "metadata": {
        "id": "u_P_n0arKUAF",
        "colab_type": "code",
        "colab": {}
      },
      "source": [
        "from tensorflow.keras.preprocessing.text import Tokenizer\n",
        "from tensorflow.keras.preprocessing.sequence import pad_sequences"
      ],
      "execution_count": null,
      "outputs": []
    },
    {
      "cell_type": "code",
      "metadata": {
        "id": "axs2P2ldIfc_",
        "colab_type": "code",
        "colab": {}
      },
      "source": [
        "#Parameters\n",
        "OOV_TOK = '<OOV>'\n",
        "padding_type='post'"
      ],
      "execution_count": null,
      "outputs": []
    },
    {
      "cell_type": "code",
      "metadata": {
        "id": "awndYcJ4kfMZ",
        "colab_type": "code",
        "colab": {
          "base_uri": "https://localhost:8080/",
          "height": 34
        },
        "outputId": "4f7aee91-e840-4425-d41c-da407c78f2bb"
      },
      "source": [
        "\n",
        "max([len(x) for x in train_texts])"
      ],
      "execution_count": null,
      "outputs": [
        {
          "output_type": "execute_result",
          "data": {
            "text/plain": [
              "2862"
            ]
          },
          "metadata": {
            "tags": []
          },
          "execution_count": 22
        }
      ]
    },
    {
      "cell_type": "code",
      "metadata": {
        "id": "GlwKYBGzKSSZ",
        "colab_type": "code",
        "colab": {}
      },
      "source": [
        "#Tokenization and Texts to sequences\n",
        "tokenizer = Tokenizer(oov_token = OOV_TOK)\n",
        "tokenizer.fit_on_texts(train_texts)\n",
        "\n",
        "train_seq = tokenizer.texts_to_sequences(train_texts)\n",
        "test_seq  = tokenizer.texts_to_sequences(test_texts)\n",
        "word_index = tokenizer.word_index"
      ],
      "execution_count": null,
      "outputs": []
    },
    {
      "cell_type": "code",
      "metadata": {
        "id": "KY-ncV_zMeR1",
        "colab_type": "code",
        "colab": {
          "base_uri": "https://localhost:8080/",
          "height": 34
        },
        "outputId": "60d52c93-cd1c-43dc-d034-b7c8586b3f31"
      },
      "source": [
        "# Padding\n",
        "max_length = max([len(x) for x in train_seq])\n",
        "print (max_length)\n",
        "train_padded = pad_sequences(train_seq, padding=padding_type, maxlen=max_length)\n",
        "test_padded  = pad_sequences(test_seq, padding=padding_type, maxlen=max_length)"
      ],
      "execution_count": null,
      "outputs": [
        {
          "output_type": "stream",
          "text": [
            "467\n"
          ],
          "name": "stdout"
        }
      ]
    },
    {
      "cell_type": "code",
      "metadata": {
        "id": "FISVaV2_UGZU",
        "colab_type": "code",
        "colab": {
          "base_uri": "https://localhost:8080/",
          "height": 34
        },
        "outputId": "201c15f5-282a-4096-b79e-e4790d885953"
      },
      "source": [
        "test_padded.shape, train_padded.shape"
      ],
      "execution_count": null,
      "outputs": [
        {
          "output_type": "execute_result",
          "data": {
            "text/plain": [
              "((4194, 467), (16778, 467))"
            ]
          },
          "metadata": {
            "tags": []
          },
          "execution_count": 25
        }
      ]
    },
    {
      "cell_type": "code",
      "metadata": {
        "id": "GP7V0WSsCCbO",
        "colab_type": "code",
        "colab": {}
      },
      "source": [
        ""
      ],
      "execution_count": null,
      "outputs": []
    },
    {
      "cell_type": "code",
      "metadata": {
        "id": "eh2MaXmCUkop",
        "colab_type": "code",
        "colab": {}
      },
      "source": [
        "vocab_size = len(word_index) + 1"
      ],
      "execution_count": null,
      "outputs": []
    },
    {
      "cell_type": "markdown",
      "metadata": {
        "id": "TQE-qqF1Qk-1",
        "colab_type": "text"
      },
      "source": [
        "## Generate labels - 6 columns of output"
      ]
    },
    {
      "cell_type": "code",
      "metadata": {
        "id": "stQUEZHoM_oq",
        "colab_type": "code",
        "colab": {
          "base_uri": "https://localhost:8080/",
          "height": 122
        },
        "outputId": "0df1b7b9-96cd-432a-be9f-3b62e9eae1e2"
      },
      "source": [
        "#6 columns of onehot vectors, each one for - computer science,physics,mathematics,statistics,quantitative biology,quantitative finance\n",
        "n_labels = 6\n",
        "labels = np.zeros((df.shape[0], n_labels))\n",
        "for i,each_label in enumerate(df.columns[3:]):\n",
        "  print (each_label,i)\n",
        "  #current_label = np.zeros((df.shape[0]))\n",
        "  #current_label = df.loc[:,each_label].values\n",
        "  #labels = np.append(labels, current_label)\n",
        "  labels[:,i] = df.loc[:,each_label].values"
      ],
      "execution_count": null,
      "outputs": [
        {
          "output_type": "stream",
          "text": [
            "computer science 0\n",
            "physics 1\n",
            "mathematics 2\n",
            "statistics 3\n",
            "quantitative biology 4\n",
            "quantitative finance 5\n"
          ],
          "name": "stdout"
        }
      ]
    },
    {
      "cell_type": "code",
      "metadata": {
        "id": "4jQOPFjOO0P7",
        "colab_type": "code",
        "colab": {
          "base_uri": "https://localhost:8080/",
          "height": 105
        },
        "outputId": "4d8e4706-ac26-4ebe-d496-c2b538433a84"
      },
      "source": [
        "labels[:5]"
      ],
      "execution_count": null,
      "outputs": [
        {
          "output_type": "execute_result",
          "data": {
            "text/plain": [
              "array([[1., 0., 0., 0., 0., 0.],\n",
              "       [1., 0., 0., 0., 0., 0.],\n",
              "       [0., 0., 1., 0., 0., 0.],\n",
              "       [0., 0., 1., 0., 0., 0.],\n",
              "       [1., 0., 0., 1., 0., 0.]])"
            ]
          },
          "metadata": {
            "tags": []
          },
          "execution_count": 28
        }
      ]
    },
    {
      "cell_type": "code",
      "metadata": {
        "id": "VLk60jOtPxU6",
        "colab_type": "code",
        "colab": {
          "base_uri": "https://localhost:8080/",
          "height": 34
        },
        "outputId": "b5002b1e-12e1-4a5d-c7c8-5885c276bb91"
      },
      "source": [
        "(labels[:,0] == df.iloc[:,3]).values.sum()"
      ],
      "execution_count": null,
      "outputs": [
        {
          "output_type": "execute_result",
          "data": {
            "text/plain": [
              "20972"
            ]
          },
          "metadata": {
            "tags": []
          },
          "execution_count": 29
        }
      ]
    },
    {
      "cell_type": "code",
      "metadata": {
        "id": "8vFrnUO9eJqT",
        "colab_type": "code",
        "colab": {}
      },
      "source": [
        "#Train-Test labels\n",
        "train_labels = labels[train_indices,:]\n",
        "test_labels  = labels[test_indices,:]"
      ],
      "execution_count": null,
      "outputs": []
    },
    {
      "cell_type": "code",
      "metadata": {
        "id": "dN0AQGIAeJty",
        "colab_type": "code",
        "colab": {
          "base_uri": "https://localhost:8080/",
          "height": 34
        },
        "outputId": "62ce429a-3218-4ec9-a9af-335b8b7be40b"
      },
      "source": [
        "train_labels.shape, test_labels.shape"
      ],
      "execution_count": null,
      "outputs": [
        {
          "output_type": "execute_result",
          "data": {
            "text/plain": [
              "((16778, 6), (4194, 6))"
            ]
          },
          "metadata": {
            "tags": []
          },
          "execution_count": 31
        }
      ]
    },
    {
      "cell_type": "markdown",
      "metadata": {
        "id": "ULGgZvkHQxHL",
        "colab_type": "text"
      },
      "source": [
        "## Import Glove Embeddings"
      ]
    },
    {
      "cell_type": "code",
      "metadata": {
        "id": "-lKUoMVDNBmk",
        "colab_type": "code",
        "colab": {
          "base_uri": "https://localhost:8080/",
          "height": 369
        },
        "outputId": "ee531c8d-7b34-405d-9a2e-0f24347cb359"
      },
      "source": [
        "!wget http://nlp.stanford.edu/data/glove.6B.zip"
      ],
      "execution_count": null,
      "outputs": [
        {
          "output_type": "stream",
          "text": [
            "--2020-08-21 04:16:25--  http://nlp.stanford.edu/data/glove.6B.zip\n",
            "Resolving nlp.stanford.edu (nlp.stanford.edu)... 171.64.67.140\n",
            "Connecting to nlp.stanford.edu (nlp.stanford.edu)|171.64.67.140|:80... connected.\n",
            "HTTP request sent, awaiting response... 302 Found\n",
            "Location: https://nlp.stanford.edu/data/glove.6B.zip [following]\n",
            "--2020-08-21 04:16:25--  https://nlp.stanford.edu/data/glove.6B.zip\n",
            "Connecting to nlp.stanford.edu (nlp.stanford.edu)|171.64.67.140|:443... connected.\n",
            "HTTP request sent, awaiting response... 301 Moved Permanently\n",
            "Location: http://downloads.cs.stanford.edu/nlp/data/glove.6B.zip [following]\n",
            "--2020-08-21 04:16:26--  http://downloads.cs.stanford.edu/nlp/data/glove.6B.zip\n",
            "Resolving downloads.cs.stanford.edu (downloads.cs.stanford.edu)... 171.64.64.22\n",
            "Connecting to downloads.cs.stanford.edu (downloads.cs.stanford.edu)|171.64.64.22|:80... connected.\n",
            "HTTP request sent, awaiting response... 200 OK\n",
            "Length: 862182613 (822M) [application/zip]\n",
            "Saving to: ‘glove.6B.zip’\n",
            "\n",
            "glove.6B.zip        100%[===================>] 822.24M  2.00MB/s    in 6m 32s  \n",
            "\n",
            "2020-08-21 04:22:58 (2.10 MB/s) - ‘glove.6B.zip’ saved [862182613/862182613]\n",
            "\n"
          ],
          "name": "stdout"
        }
      ]
    },
    {
      "cell_type": "code",
      "metadata": {
        "id": "49WiCHV9N2Zf",
        "colab_type": "code",
        "colab": {}
      },
      "source": [
        "import zipfile\n",
        "zip_ref = zipfile.ZipFile('glove.6B.zip', 'r')\n",
        "zip_ref.extractall('.')\n",
        "zip_ref.close()"
      ],
      "execution_count": null,
      "outputs": []
    },
    {
      "cell_type": "code",
      "metadata": {
        "id": "rApGbMB9QOCQ",
        "colab_type": "code",
        "colab": {}
      },
      "source": [
        "with open('glove.6B.100d.txt', 'r') as file:\n",
        "  rows = file.readlines()\n",
        "embeddings_matrix = {}\n",
        "for each_line in rows:\n",
        "  row = each_line.split(\" \")\n",
        "  embeddings_matrix[row[0]] = [float(i) for i in row[1:]] "
      ],
      "execution_count": null,
      "outputs": []
    },
    {
      "cell_type": "code",
      "metadata": {
        "id": "fT6ZFD5rTRAr",
        "colab_type": "code",
        "colab": {
          "base_uri": "https://localhost:8080/",
          "height": 34
        },
        "outputId": "0b5b9859-5286-433e-cc0a-10464bc83061"
      },
      "source": [
        "len(embeddings_matrix)"
      ],
      "execution_count": null,
      "outputs": [
        {
          "output_type": "execute_result",
          "data": {
            "text/plain": [
              "400000"
            ]
          },
          "metadata": {
            "tags": []
          },
          "execution_count": 49
        }
      ]
    },
    {
      "cell_type": "code",
      "metadata": {
        "id": "bdrhOoi9UzDi",
        "colab_type": "code",
        "colab": {}
      },
      "source": [
        "## Embedding weights\n",
        "embedding_dim = 100\n",
        "embedding_weights = np.zeros((vocab_size, embedding_dim))\n",
        "for i, word in enumerate(word_index):\n",
        "  embedding_vec = embeddings_matrix.get(word)\n",
        "  if embedding_vec is not None:\n",
        "    embedding_weights[i] = embedding_vec"
      ],
      "execution_count": null,
      "outputs": []
    },
    {
      "cell_type": "code",
      "metadata": {
        "id": "eBj10bohk42n",
        "colab_type": "code",
        "colab": {
          "base_uri": "https://localhost:8080/",
          "height": 34
        },
        "outputId": "4ce8f9ec-bf65-4f31-dac2-ea4b918ce305"
      },
      "source": [
        "vocab_size, len(embedding_weights)"
      ],
      "execution_count": null,
      "outputs": [
        {
          "output_type": "execute_result",
          "data": {
            "text/plain": [
              "(51757, 51757)"
            ]
          },
          "metadata": {
            "tags": []
          },
          "execution_count": 51
        }
      ]
    },
    {
      "cell_type": "markdown",
      "metadata": {
        "id": "dhw5zYxeULmb",
        "colab_type": "text"
      },
      "source": [
        "## Define Multioutput Model"
      ]
    },
    {
      "cell_type": "code",
      "metadata": {
        "id": "W8ZQ5Z4yT-eD",
        "colab_type": "code",
        "colab": {}
      },
      "source": [
        "from tensorflow.keras.models import Sequential\n",
        "from tensorflow.keras.models import Model\n",
        "from tensorflow.keras.layers import Embedding, Dense, Conv1D, MaxPooling1D, Flatten, Dropout, Input, BatchNormalization\n",
        "from tensorflow.keras.optimizers import Adam"
      ],
      "execution_count": null,
      "outputs": []
    },
    {
      "cell_type": "code",
      "metadata": {
        "id": "F0pBbhMIUZql",
        "colab_type": "code",
        "colab": {}
      },
      "source": [
        "from keras.optimizers import SGD\n",
        "sgd = SGD(lr=0.1)"
      ],
      "execution_count": null,
      "outputs": []
    },
    {
      "cell_type": "code",
      "metadata": {
        "id": "SkDALj2hWkXn",
        "colab_type": "code",
        "colab": {}
      },
      "source": [
        "def define_model(max_length, vocab_size,n_output=1, chanDim=-1):\n",
        "\n",
        "  #Feature Extraction\n",
        "  inputs1    = Input(shape=(max_length,))\n",
        "  embedding1 = Embedding(vocab_size, embedding_dim, weights=[embedding_weights], trainable=True)(inputs1)\n",
        "  conv1      = Conv1D(filters=64, kernel_size=5, activation='relu')(embedding1)\n",
        "  bn1        = BatchNormalization(axis=chanDim)(conv1)\n",
        "  pool1      = MaxPooling1D(pool_size=2)(bn1)\n",
        "  conv2      = Conv1D(filters=64, kernel_size=5, activation='relu')(pool1)\n",
        "  bn2        = BatchNormalization(axis=chanDim)(conv2)\n",
        "  pool2      = MaxPooling1D(pool_size=2)(bn2)\n",
        "  flat1      = Flatten()(pool2)\n",
        "\n",
        "  #Dense Classifier 1\n",
        "  dense1_1   = Dense(32, activation='relu')(flat1)\n",
        "  output1    = Dense(n_output, activation='sigmoid', name='output_1')(dense1_1)\n",
        "\n",
        "  #Dense Classifier 2\n",
        "  dense2_1   = Dense(32, activation='relu')(flat1)\n",
        "  output2    = Dense(n_output, activation='sigmoid',name='output_2')(dense2_1)\n",
        "\n",
        "  #Dense Classifier 3\n",
        "  dense3_1   = Dense(32, activation='relu')(flat1)\n",
        "  output3    = Dense(n_output, activation='sigmoid',name='output_3')(dense3_1)\n",
        "\n",
        "  #Dense Classifier 4\n",
        "  dense4_1   = Dense(32, activation='relu')(flat1)\n",
        "  output4    = Dense(n_output, activation='sigmoid',name='output_4')(dense4_1)\n",
        "\n",
        "  #Dense Classifier 5\n",
        "  dense5_1   = Dense(32, activation='relu')(flat1)\n",
        "  output5    = Dense(n_output, activation='sigmoid',name='output_5')(dense5_1)\n",
        "\n",
        "  #Dense Classifier 6\n",
        "  dense6_1   = Dense(32, activation='relu')(flat1)\n",
        "  output6    = Dense(n_output, activation='sigmoid',name='output_6')(dense6_1)\n",
        "\n",
        "  model = Model(inputs = inputs1, outputs=[output1, \n",
        "                                           output2, \n",
        "                                           output3, \n",
        "                                           output4, \n",
        "                                           output5, \n",
        "                                           output6])\n",
        "  model.compile(loss={\"output_1\" : 'binary_crossentropy',\n",
        "                      \"output_2\" : 'binary_crossentropy',\n",
        "                      \"output_3\" : 'binary_crossentropy',\n",
        "                      \"output_4\" : 'binary_crossentropy',\n",
        "                      \"output_5\" : 'binary_crossentropy',\n",
        "                      \"output_6\" : 'binary_crossentropy'},\n",
        "                loss_weights = {\"output_1\" : 0.1,\n",
        "                                \"output_2\" : 0.15,\n",
        "                                \"output_3\" : 0.1,\n",
        "                                \"output_4\" : 0.15,\n",
        "                                \"output_5\" : 0.25,\n",
        "                                \"output_6\" : 0.25                    \n",
        "                },\n",
        "                optimizer=sgd, \n",
        "                metrics={\"output_1\" : 'accuracy',\n",
        "                         \"output_2\" : 'accuracy',\n",
        "                         \"output_3\" : 'accuracy',\n",
        "                         \"output_4\" : 'accuracy',\n",
        "                         \"output_5\" : 'accuracy',\n",
        "                         \"output_6\" : 'accuracy'})\n",
        "  return model"
      ],
      "execution_count": null,
      "outputs": []
    },
    {
      "cell_type": "code",
      "metadata": {
        "id": "O0mkHdB2aCXd",
        "colab_type": "code",
        "colab": {
          "base_uri": "https://localhost:8080/",
          "height": 34
        },
        "outputId": "c3e74fa2-99bb-4f81-af15-ab2b99f5ed46"
      },
      "source": [
        "labels.shape"
      ],
      "execution_count": null,
      "outputs": [
        {
          "output_type": "execute_result",
          "data": {
            "text/plain": [
              "(20972, 6)"
            ]
          },
          "metadata": {
            "tags": []
          },
          "execution_count": 55
        }
      ]
    },
    {
      "cell_type": "code",
      "metadata": {
        "id": "ptpJUKDxaDXU",
        "colab_type": "code",
        "colab": {}
      },
      "source": [
        "model = define_model(max_length, vocab_size,n_output=1, chanDim=-1)"
      ],
      "execution_count": null,
      "outputs": []
    },
    {
      "cell_type": "code",
      "metadata": {
        "id": "tJIv36iZEhVh",
        "colab_type": "code",
        "colab": {
          "base_uri": "https://localhost:8080/",
          "height": 897
        },
        "outputId": "d038e009-bc02-4a37-b38a-ddcfcff5d89a"
      },
      "source": [
        "model.summary()"
      ],
      "execution_count": null,
      "outputs": [
        {
          "output_type": "stream",
          "text": [
            "Model: \"functional_3\"\n",
            "__________________________________________________________________________________________________\n",
            "Layer (type)                    Output Shape         Param #     Connected to                     \n",
            "==================================================================================================\n",
            "input_2 (InputLayer)            [(None, 467)]        0                                            \n",
            "__________________________________________________________________________________________________\n",
            "embedding_1 (Embedding)         (None, 467, 100)     5175700     input_2[0][0]                    \n",
            "__________________________________________________________________________________________________\n",
            "conv1d_2 (Conv1D)               (None, 463, 64)      32064       embedding_1[0][0]                \n",
            "__________________________________________________________________________________________________\n",
            "batch_normalization_2 (BatchNor (None, 463, 64)      256         conv1d_2[0][0]                   \n",
            "__________________________________________________________________________________________________\n",
            "max_pooling1d_2 (MaxPooling1D)  (None, 231, 64)      0           batch_normalization_2[0][0]      \n",
            "__________________________________________________________________________________________________\n",
            "conv1d_3 (Conv1D)               (None, 227, 64)      20544       max_pooling1d_2[0][0]            \n",
            "__________________________________________________________________________________________________\n",
            "batch_normalization_3 (BatchNor (None, 227, 64)      256         conv1d_3[0][0]                   \n",
            "__________________________________________________________________________________________________\n",
            "max_pooling1d_3 (MaxPooling1D)  (None, 113, 64)      0           batch_normalization_3[0][0]      \n",
            "__________________________________________________________________________________________________\n",
            "flatten_1 (Flatten)             (None, 7232)         0           max_pooling1d_3[0][0]            \n",
            "__________________________________________________________________________________________________\n",
            "dense_6 (Dense)                 (None, 32)           231456      flatten_1[0][0]                  \n",
            "__________________________________________________________________________________________________\n",
            "dense_7 (Dense)                 (None, 32)           231456      flatten_1[0][0]                  \n",
            "__________________________________________________________________________________________________\n",
            "dense_8 (Dense)                 (None, 32)           231456      flatten_1[0][0]                  \n",
            "__________________________________________________________________________________________________\n",
            "dense_9 (Dense)                 (None, 32)           231456      flatten_1[0][0]                  \n",
            "__________________________________________________________________________________________________\n",
            "dense_10 (Dense)                (None, 32)           231456      flatten_1[0][0]                  \n",
            "__________________________________________________________________________________________________\n",
            "dense_11 (Dense)                (None, 32)           231456      flatten_1[0][0]                  \n",
            "__________________________________________________________________________________________________\n",
            "output_1 (Dense)                (None, 1)            33          dense_6[0][0]                    \n",
            "__________________________________________________________________________________________________\n",
            "output_2 (Dense)                (None, 1)            33          dense_7[0][0]                    \n",
            "__________________________________________________________________________________________________\n",
            "output_3 (Dense)                (None, 1)            33          dense_8[0][0]                    \n",
            "__________________________________________________________________________________________________\n",
            "output_4 (Dense)                (None, 1)            33          dense_9[0][0]                    \n",
            "__________________________________________________________________________________________________\n",
            "output_5 (Dense)                (None, 1)            33          dense_10[0][0]                   \n",
            "__________________________________________________________________________________________________\n",
            "output_6 (Dense)                (None, 1)            33          dense_11[0][0]                   \n",
            "==================================================================================================\n",
            "Total params: 6,617,754\n",
            "Trainable params: 6,617,498\n",
            "Non-trainable params: 256\n",
            "__________________________________________________________________________________________________\n"
          ],
          "name": "stdout"
        }
      ]
    },
    {
      "cell_type": "code",
      "metadata": {
        "id": "ciLymlfkbI0M",
        "colab_type": "code",
        "colab": {
          "base_uri": "https://localhost:8080/",
          "height": 741
        },
        "outputId": "4c18e2f8-723b-456b-e806-76cc135fc9e0"
      },
      "source": [
        "history = model.fit(train_padded,\n",
        "          [np.array(train_labels[:,i]) for i in range(n_labels)], \n",
        "          epochs=20, \n",
        "          batch_size=128)"
      ],
      "execution_count": null,
      "outputs": [
        {
          "output_type": "stream",
          "text": [
            "Epoch 1/20\n",
            "132/132 [==============================] - 5s 38ms/step - loss: 0.3533 - output_1_loss: 0.6783 - output_2_loss: 0.5997 - output_3_loss: 0.5298 - output_4_loss: 0.5560 - output_5_loss: 0.1535 - output_6_loss: 0.0828 - output_1_accuracy: 0.5858 - output_2_accuracy: 0.7116 - output_3_accuracy: 0.7656 - output_4_accuracy: 0.7468 - output_5_accuracy: 0.9667 - output_6_accuracy: 0.9830\n",
            "Epoch 2/20\n",
            "132/132 [==============================] - 5s 36ms/step - loss: 0.3028 - output_1_loss: 0.6186 - output_2_loss: 0.4896 - output_3_loss: 0.4900 - output_4_loss: 0.4868 - output_5_loss: 0.1199 - output_6_loss: 0.0619 - output_1_accuracy: 0.6526 - output_2_accuracy: 0.7645 - output_3_accuracy: 0.7779 - output_4_accuracy: 0.7622 - output_5_accuracy: 0.9714 - output_6_accuracy: 0.9884\n",
            "Epoch 3/20\n",
            "132/132 [==============================] - 5s 36ms/step - loss: 0.2780 - output_1_loss: 0.5725 - output_2_loss: 0.4370 - output_3_loss: 0.4584 - output_4_loss: 0.4503 - output_5_loss: 0.1100 - output_6_loss: 0.0571 - output_1_accuracy: 0.6985 - output_2_accuracy: 0.8017 - output_3_accuracy: 0.7922 - output_4_accuracy: 0.7807 - output_5_accuracy: 0.9714 - output_6_accuracy: 0.9884\n",
            "Epoch 4/20\n",
            "132/132 [==============================] - 5s 36ms/step - loss: 0.2545 - output_1_loss: 0.5358 - output_2_loss: 0.3950 - output_3_loss: 0.4210 - output_4_loss: 0.4142 - output_5_loss: 0.0985 - output_6_loss: 0.0513 - output_1_accuracy: 0.7270 - output_2_accuracy: 0.8286 - output_3_accuracy: 0.8087 - output_4_accuracy: 0.8016 - output_5_accuracy: 0.9715 - output_6_accuracy: 0.9884\n",
            "Epoch 5/20\n",
            "132/132 [==============================] - 5s 36ms/step - loss: 0.2311 - output_1_loss: 0.5058 - output_2_loss: 0.3562 - output_3_loss: 0.3776 - output_4_loss: 0.3787 - output_5_loss: 0.0853 - output_6_loss: 0.0447 - output_1_accuracy: 0.7485 - output_2_accuracy: 0.8487 - output_3_accuracy: 0.8336 - output_4_accuracy: 0.8219 - output_5_accuracy: 0.9717 - output_6_accuracy: 0.9884\n",
            "Epoch 6/20\n",
            "132/132 [==============================] - 5s 36ms/step - loss: 0.2098 - output_1_loss: 0.4771 - output_2_loss: 0.3157 - output_3_loss: 0.3392 - output_4_loss: 0.3535 - output_5_loss: 0.0732 - output_6_loss: 0.0378 - output_1_accuracy: 0.7674 - output_2_accuracy: 0.8683 - output_3_accuracy: 0.8550 - output_4_accuracy: 0.8356 - output_5_accuracy: 0.9736 - output_6_accuracy: 0.9884\n",
            "Epoch 7/20\n",
            "132/132 [==============================] - 5s 36ms/step - loss: 0.1868 - output_1_loss: 0.4475 - output_2_loss: 0.2822 - output_3_loss: 0.3065 - output_4_loss: 0.3168 - output_5_loss: 0.0553 - output_6_loss: 0.0311 - output_1_accuracy: 0.7882 - output_2_accuracy: 0.8852 - output_3_accuracy: 0.8697 - output_4_accuracy: 0.8584 - output_5_accuracy: 0.9790 - output_6_accuracy: 0.9885\n",
            "Epoch 8/20\n",
            "132/132 [==============================] - 5s 36ms/step - loss: 0.1654 - output_1_loss: 0.4187 - output_2_loss: 0.2463 - output_3_loss: 0.2777 - output_4_loss: 0.2850 - output_5_loss: 0.0391 - output_6_loss: 0.0250 - output_1_accuracy: 0.8021 - output_2_accuracy: 0.9019 - output_3_accuracy: 0.8854 - output_4_accuracy: 0.8755 - output_5_accuracy: 0.9862 - output_6_accuracy: 0.9888\n",
            "Epoch 9/20\n",
            "132/132 [==============================] - 5s 36ms/step - loss: 0.1435 - output_1_loss: 0.3880 - output_2_loss: 0.2112 - output_3_loss: 0.2454 - output_4_loss: 0.2464 - output_5_loss: 0.0259 - output_6_loss: 0.0201 - output_1_accuracy: 0.8235 - output_2_accuracy: 0.9200 - output_3_accuracy: 0.8990 - output_4_accuracy: 0.8974 - output_5_accuracy: 0.9923 - output_6_accuracy: 0.9892\n",
            "Epoch 10/20\n",
            "132/132 [==============================] - 5s 35ms/step - loss: 0.1211 - output_1_loss: 0.3512 - output_2_loss: 0.1695 - output_3_loss: 0.2160 - output_4_loss: 0.2044 - output_5_loss: 0.0172 - output_6_loss: 0.0159 - output_1_accuracy: 0.8458 - output_2_accuracy: 0.9380 - output_3_accuracy: 0.9163 - output_4_accuracy: 0.9238 - output_5_accuracy: 0.9963 - output_6_accuracy: 0.9910\n",
            "Epoch 11/20\n",
            "132/132 [==============================] - 5s 35ms/step - loss: 0.1035 - output_1_loss: 0.3203 - output_2_loss: 0.1374 - output_3_loss: 0.1884 - output_4_loss: 0.1748 - output_5_loss: 0.0111 - output_6_loss: 0.0121 - output_1_accuracy: 0.8645 - output_2_accuracy: 0.9538 - output_3_accuracy: 0.9286 - output_4_accuracy: 0.9368 - output_5_accuracy: 0.9985 - output_6_accuracy: 0.9948\n",
            "Epoch 12/20\n",
            "132/132 [==============================] - 5s 35ms/step - loss: 0.0870 - output_1_loss: 0.2925 - output_2_loss: 0.1146 - output_3_loss: 0.1599 - output_4_loss: 0.1356 - output_5_loss: 0.0081 - output_6_loss: 0.0090 - output_1_accuracy: 0.8776 - output_2_accuracy: 0.9613 - output_3_accuracy: 0.9418 - output_4_accuracy: 0.9593 - output_5_accuracy: 0.9993 - output_6_accuracy: 0.9976\n",
            "Epoch 13/20\n",
            "132/132 [==============================] - 5s 35ms/step - loss: 0.0683 - output_1_loss: 0.2497 - output_2_loss: 0.0771 - output_3_loss: 0.1349 - output_4_loss: 0.1013 - output_5_loss: 0.0060 - output_6_loss: 0.0065 - output_1_accuracy: 0.9050 - output_2_accuracy: 0.9784 - output_3_accuracy: 0.9529 - output_4_accuracy: 0.9745 - output_5_accuracy: 0.9995 - output_6_accuracy: 0.9992\n",
            "Epoch 14/20\n",
            "132/132 [==============================] - 5s 35ms/step - loss: 0.0556 - output_1_loss: 0.2183 - output_2_loss: 0.0566 - output_3_loss: 0.1095 - output_4_loss: 0.0799 - output_5_loss: 0.0044 - output_6_loss: 0.0048 - output_1_accuracy: 0.9220 - output_2_accuracy: 0.9868 - output_3_accuracy: 0.9669 - output_4_accuracy: 0.9820 - output_5_accuracy: 0.9999 - output_6_accuracy: 0.9997\n",
            "Epoch 15/20\n",
            "132/132 [==============================] - 5s 35ms/step - loss: 0.0527 - output_1_loss: 0.1937 - output_2_loss: 0.0561 - output_3_loss: 0.0965 - output_4_loss: 0.0863 - output_5_loss: 0.0043 - output_6_loss: 0.0049 - output_1_accuracy: 0.9340 - output_2_accuracy: 0.9868 - output_3_accuracy: 0.9737 - output_4_accuracy: 0.9822 - output_5_accuracy: 0.9998 - output_6_accuracy: 0.9996\n",
            "Epoch 16/20\n",
            "132/132 [==============================] - 5s 35ms/step - loss: 0.0410 - output_1_loss: 0.1578 - output_2_loss: 0.0568 - output_3_loss: 0.0797 - output_4_loss: 0.0462 - output_5_loss: 0.0037 - output_6_loss: 0.0034 - output_1_accuracy: 0.9513 - output_2_accuracy: 0.9881 - output_3_accuracy: 0.9823 - output_4_accuracy: 0.9942 - output_5_accuracy: 0.9998 - output_6_accuracy: 0.9997\n",
            "Epoch 17/20\n",
            "132/132 [==============================] - 5s 35ms/step - loss: 0.0275 - output_1_loss: 0.1239 - output_2_loss: 0.0224 - output_3_loss: 0.0581 - output_4_loss: 0.0316 - output_5_loss: 0.0024 - output_6_loss: 0.0024 - output_1_accuracy: 0.9679 - output_2_accuracy: 0.9980 - output_3_accuracy: 0.9912 - output_4_accuracy: 0.9979 - output_5_accuracy: 0.9999 - output_6_accuracy: 0.9999\n",
            "Epoch 18/20\n",
            "132/132 [==============================] - 5s 35ms/step - loss: 0.0276 - output_1_loss: 0.1077 - output_2_loss: 0.0379 - output_3_loss: 0.0514 - output_4_loss: 0.0323 - output_5_loss: 0.0025 - output_6_loss: 0.0021 - output_1_accuracy: 0.9748 - output_2_accuracy: 0.9930 - output_3_accuracy: 0.9934 - output_4_accuracy: 0.9962 - output_5_accuracy: 0.9999 - output_6_accuracy: 0.9999\n",
            "Epoch 19/20\n",
            "132/132 [==============================] - 5s 35ms/step - loss: 0.0177 - output_1_loss: 0.0809 - output_2_loss: 0.0139 - output_3_loss: 0.0378 - output_4_loss: 0.0191 - output_5_loss: 0.0018 - output_6_loss: 0.0017 - output_1_accuracy: 0.9859 - output_2_accuracy: 0.9995 - output_3_accuracy: 0.9977 - output_4_accuracy: 0.9995 - output_5_accuracy: 0.9999 - output_6_accuracy: 1.0000\n",
            "Epoch 20/20\n",
            "132/132 [==============================] - 5s 35ms/step - loss: 0.1049 - output_1_loss: 0.2274 - output_2_loss: 0.1981 - output_3_loss: 0.1510 - output_4_loss: 0.1973 - output_5_loss: 0.0224 - output_6_loss: 0.0085 - output_1_accuracy: 0.9257 - output_2_accuracy: 0.9543 - output_3_accuracy: 0.9582 - output_4_accuracy: 0.9477 - output_5_accuracy: 0.9940 - output_6_accuracy: 0.9985\n"
          ],
          "name": "stdout"
        }
      ]
    },
    {
      "cell_type": "code",
      "metadata": {
        "id": "j_AfR4bzT2Kn",
        "colab_type": "code",
        "colab": {
          "base_uri": "https://localhost:8080/",
          "height": 34
        },
        "outputId": "0297a8ab-ac03-42f9-97e6-58fe66378b83"
      },
      "source": [
        "test_padded.shape, train_padded.shape"
      ],
      "execution_count": null,
      "outputs": [
        {
          "output_type": "execute_result",
          "data": {
            "text/plain": [
              "((4194, 467), (16778, 467))"
            ]
          },
          "metadata": {
            "tags": []
          },
          "execution_count": 60
        }
      ]
    },
    {
      "cell_type": "code",
      "metadata": {
        "id": "n2V40XdbdZks",
        "colab_type": "code",
        "colab": {}
      },
      "source": [
        "y_hat = model.predict(test_padded)"
      ],
      "execution_count": null,
      "outputs": []
    },
    {
      "cell_type": "code",
      "metadata": {
        "id": "4g9OzgD4j-gq",
        "colab_type": "code",
        "colab": {
          "base_uri": "https://localhost:8080/",
          "height": 34
        },
        "outputId": "38e1af21-1331-423f-c57c-4cb144019582"
      },
      "source": [
        "(np.round(np.array(y_hat).flatten()) == np.array(test_labels).flatten()).sum()/test_labels.shape[0]*test_labels.shape[1]"
      ],
      "execution_count": null,
      "outputs": [
        {
          "output_type": "execute_result",
          "data": {
            "text/plain": [
              "23.842632331902717"
            ]
          },
          "metadata": {
            "tags": []
          },
          "execution_count": 62
        }
      ]
    },
    {
      "cell_type": "code",
      "metadata": {
        "id": "bqOMcTn4Gojb",
        "colab_type": "code",
        "colab": {}
      },
      "source": [
        ""
      ],
      "execution_count": null,
      "outputs": []
    },
    {
      "cell_type": "code",
      "metadata": {
        "id": "o4LSFtmnGoly",
        "colab_type": "code",
        "colab": {}
      },
      "source": [
        "def preprocess(df, max_length,padding_type):\n",
        "  df['ABSTRACT']  = df['TITLE'].apply(lambda x: x + \". \") + df['ABSTRACT']\n",
        "  texts = df.loc[:, 'ABSTRACT']\n",
        "  tokenizer.fit_on_texts(texts)\n",
        "  seq = tokenizer.texts_to_sequences(texts)\n",
        "  padded = pad_sequences(seq, padding=padding_type, maxlen=max_length)\n",
        "  return padded"
      ],
      "execution_count": null,
      "outputs": []
    },
    {
      "cell_type": "code",
      "metadata": {
        "id": "TX5OPzHijlK8",
        "colab_type": "code",
        "colab": {}
      },
      "source": [
        "df_test = pd.read_csv('test.csv')"
      ],
      "execution_count": null,
      "outputs": []
    },
    {
      "cell_type": "code",
      "metadata": {
        "id": "PIfIScvcldRC",
        "colab_type": "code",
        "colab": {}
      },
      "source": [
        "padded = preprocess(df_test, max_length,padding_type)"
      ],
      "execution_count": null,
      "outputs": []
    },
    {
      "cell_type": "code",
      "metadata": {
        "id": "UfZscsRRHOPY",
        "colab_type": "code",
        "colab": {}
      },
      "source": [
        ""
      ],
      "execution_count": null,
      "outputs": []
    },
    {
      "cell_type": "code",
      "metadata": {
        "id": "SAy1ZauJDxKq",
        "colab_type": "code",
        "colab": {}
      },
      "source": [
        "predicted = model.predict(np.array(padded))\n",
        "df_sub = pd.DataFrame(columns=['ID','Computer Science','Physics','Mathematics','Statistics','Quantitative Biology','Quantitative Finance'])\n",
        "df_sub['ID'] = df_test['ID']\n",
        "df_sub.iloc[:,1:] = np.round(predicted)"
      ],
      "execution_count": null,
      "outputs": []
    },
    {
      "cell_type": "code",
      "metadata": {
        "id": "2Esk2YfrHZUX",
        "colab_type": "code",
        "colab": {}
      },
      "source": [
        "df_sub.to_csv('submission.csv', index=False)"
      ],
      "execution_count": null,
      "outputs": []
    },
    {
      "cell_type": "code",
      "metadata": {
        "id": "BowYwGOIHgjf",
        "colab_type": "code",
        "colab": {}
      },
      "source": [
        ""
      ],
      "execution_count": null,
      "outputs": []
    }
  ]
}